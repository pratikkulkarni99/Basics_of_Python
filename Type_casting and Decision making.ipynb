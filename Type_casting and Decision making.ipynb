{
 "cells": [
  {
   "cell_type": "markdown",
   "id": "8757c102",
   "metadata": {},
   "source": [
    "# TYPE_CASTING"
   ]
  },
  {
   "cell_type": "code",
   "execution_count": 1,
   "id": "8d9a3d3c",
   "metadata": {},
   "outputs": [
    {
     "name": "stdout",
     "output_type": "stream",
     "text": [
      "Enter a no: 6\n",
      "Enter a no: 8\n",
      "68\n"
     ]
    }
   ],
   "source": [
    "a=input(\"Enter a no: \")\n",
    "b=input(\"Enter a no: \")\n",
    "c=a+b\n",
    "print(c)\n",
    "#here it will not add it only concates due to python takes any data type as string when not type casted"
   ]
  },
  {
   "cell_type": "code",
   "execution_count": 2,
   "id": "ed0585bb",
   "metadata": {},
   "outputs": [
    {
     "data": {
      "text/plain": [
       "'Type casting\\n1)Integer=int()\\n2)Float=float()\\n3)String=str()\\n4)Boolean=bool()'"
      ]
     },
     "execution_count": 2,
     "metadata": {},
     "output_type": "execute_result"
    }
   ],
   "source": [
    "'''Type casting\n",
    "1)Integer=int()\n",
    "2)Float=float()\n",
    "3)String=str()\n",
    "4)Boolean=bool()'''"
   ]
  },
  {
   "cell_type": "code",
   "execution_count": 4,
   "id": "f2995911",
   "metadata": {},
   "outputs": [
    {
     "name": "stdout",
     "output_type": "stream",
     "text": [
      "Enter a 1st no -> 6\n",
      "Enter a 2nd no -> 8\n",
      "14\n"
     ]
    }
   ],
   "source": [
    "#above program by use of type casting\n",
    "a=int(input(\"Enter a 1st no -> \"))\n",
    "b=int(input(\"Enter a 2nd no -> \"))\n",
    "c=a+b\n",
    "print(c)"
   ]
  },
  {
   "cell_type": "markdown",
   "id": "5b89deb5",
   "metadata": {},
   "source": [
    "# DECISION_MAKING"
   ]
  },
  {
   "cell_type": "code",
   "execution_count": 7,
   "id": "c88ac06d",
   "metadata": {},
   "outputs": [
    {
     "name": "stdout",
     "output_type": "stream",
     "text": [
      "hi\n",
      "No,b is greater!\n"
     ]
    }
   ],
   "source": [
    "#if else loop\n",
    "a=2\n",
    "b=5\n",
    "if(a>b):      #condition\n",
    "    print(\"Hey\")\n",
    "    print(\"Yes,a is greater than b!\")\n",
    "else:\n",
    "    print('hi')\n",
    "    print(\"No,b is greater!\")"
   ]
  },
  {
   "cell_type": "code",
   "execution_count": 9,
   "id": "130e6687",
   "metadata": {},
   "outputs": [
    {
     "name": "stdout",
     "output_type": "stream",
     "text": [
      "Enter a no of lectures: 48\n",
      "YES! You are eligible for exam\n"
     ]
    }
   ],
   "source": [
    "#to take attendance from user\n",
    "a=50\n",
    "b=int(input(\"Enter a no of lectures: \"))\n",
    "if(b/a>=0.75):\n",
    "    print(\"YES! You are eligible for exam\")\n",
    "else:\n",
    "    print(\"You are in detention list\")"
   ]
  },
  {
   "cell_type": "code",
   "execution_count": 14,
   "id": "741edb41",
   "metadata": {},
   "outputs": [
    {
     "name": "stdout",
     "output_type": "stream",
     "text": [
      "\n",
      "1.Add\n",
      "2.sub\n",
      "3.multiplication\n",
      "4.divide\n",
      "Enter a no: 8\n",
      "Enter a no: 9\n",
      "Enter a choice: 2\n",
      "-1\n"
     ]
    }
   ],
   "source": [
    "# if elif with multiple condition\n",
    "print(\"\\n1.Add\\n2.sub\\n3.multiplication\\n4.divide\")\n",
    "a=int(input(\"Enter a no: \"))\n",
    "b=int(input(\"Enter a no: \"))\n",
    "ch=int(input(\"Enter a choice: \"))\n",
    "if(ch==1):\n",
    "    print(a+b)\n",
    "elif(ch==2):\n",
    "    print(a-b)\n",
    "elif(ch==3):\n",
    "    print(a*b)\n",
    "else:\n",
    "    print(a//b)\n",
    "    "
   ]
  },
  {
   "cell_type": "code",
   "execution_count": 15,
   "id": "cfe4f8e8",
   "metadata": {},
   "outputs": [
    {
     "name": "stdout",
     "output_type": "stream",
     "text": [
      "Condition satisfied\n"
     ]
    }
   ],
   "source": [
    "#if else with and \n",
    "A=9\n",
    "B=7\n",
    "if(A>B and A%2!=0):\n",
    "    print(\"Condition satisfied\")\n",
    "else:\n",
    "    print(\"Cond not satisfied\")"
   ]
  }
 ],
 "metadata": {
  "kernelspec": {
   "display_name": "Python 3",
   "language": "python",
   "name": "python3"
  },
  "language_info": {
   "codemirror_mode": {
    "name": "ipython",
    "version": 3
   },
   "file_extension": ".py",
   "mimetype": "text/x-python",
   "name": "python",
   "nbconvert_exporter": "python",
   "pygments_lexer": "ipython3",
   "version": "3.7.3"
  }
 },
 "nbformat": 4,
 "nbformat_minor": 5
}
