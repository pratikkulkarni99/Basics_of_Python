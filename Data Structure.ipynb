{
 "cells": [
  {
   "cell_type": "markdown",
   "id": "3a95748a",
   "metadata": {},
   "source": [
    "# TUPLE()"
   ]
  },
  {
   "cell_type": "code",
   "execution_count": 1,
   "id": "5445f2a2",
   "metadata": {},
   "outputs": [
    {
     "name": "stdout",
     "output_type": "stream",
     "text": [
      "(1, 2, 3, 4, 5)\n",
      "<class 'tuple'>\n"
     ]
    }
   ],
   "source": [
    "#t=tuple collection of data represented in (), no mdification(immutable)\n",
    "t=1,2,3,4,5    #no need of () everytim\n",
    "print(t)  \n",
    "print(type(t))  #tuple type"
   ]
  },
  {
   "cell_type": "code",
   "execution_count": 2,
   "id": "b8b289a8",
   "metadata": {},
   "outputs": [
    {
     "name": "stdout",
     "output_type": "stream",
     "text": [
      "(5, 6, 7)\n",
      "5\n",
      "6\n",
      "7\n",
      "6\n",
      "9\n",
      "11\n",
      "13\n"
     ]
    }
   ],
   "source": [
    "#index start with 0\n",
    "t=(1,2,3,4,(5,6,7))\n",
    "print(t[4])\n",
    "print(t[4][0])\n",
    "print(t[4][1])\n",
    "print(t[4][2])\n",
    "t=(1,2,3,4,(5,6,7,(8,9,10,(11,12,13))))\n",
    "print(t[4][1])\n",
    "print(t[4][3][1])\n",
    "print(t[4][3][3][0])\n",
    "print(t[4][3][3][2])"
   ]
  },
  {
   "cell_type": "code",
   "execution_count": 3,
   "id": "cd60bbe8",
   "metadata": {},
   "outputs": [
    {
     "name": "stdout",
     "output_type": "stream",
     "text": [
      "(4, 5, 6, 7)\n",
      "(1, 2, 3, 4, 5, 6, 7)\n",
      "(1, 2, 3, 4, 5, 6, 7, 8, 9, 10)\n",
      "(2, 4)\n",
      "(10, 9, 8, 7, 6, 5, 4, 3, 2, 1)\n",
      "(2, 4, 6, 8, 10)\n",
      "(1, 3, 5, 7, 9)\n",
      "(10, 8, 6, 4, 2)\n",
      "(9, 7, 5, 3)\n"
     ]
    }
   ],
   "source": [
    "#slicing\n",
    "t=(1,2,3,4,5,6,7,8,9,10)\n",
    "print(t[3:7])   #+ve indexing start : stop\n",
    "print(t[:7])    #start index\n",
    "print(t[:])    #selection of all values\n",
    "print(t[1:5:2]) #start :stop :step\n",
    "print(t[::-1])  #negative indexing->reverse\n",
    "print(t[1:10:2]) #even values\n",
    "print(t[0:9:2]) #odd values\n",
    "print(t[10:0:-2]) #-ve index even\n",
    "print(t[8:0:-2]) # -ve odd"
   ]
  },
  {
   "cell_type": "markdown",
   "id": "d7d604fe",
   "metadata": {},
   "source": [
    "### For 2nd program as we are checking for highest marks then first we assiqn high as 23 then for loop checks for each marks and as we given a if condition also it will find highest marks in a tuple and vice a versa for minimum marks"
   ]
  },
  {
   "cell_type": "code",
   "execution_count": 4,
   "id": "6aeef4db",
   "metadata": {},
   "outputs": [
    {
     "name": "stdout",
     "output_type": "stream",
     "text": [
      "1\n",
      "2\n",
      "3\n",
      "4\n",
      "5\n",
      "6\n",
      "7\n",
      "8\n",
      "9\n",
      "10\n",
      "67\n",
      "12\n",
      "6\n",
      "0 => 23\n",
      "1 => 21\n",
      "2 => 56\n",
      "3 => 20\n",
      "4 => 67\n",
      "5 => 12\n",
      "6\n",
      "minimum marks are 12 found at position 5\n",
      "Maximum marks are 67 found at position 4\n"
     ]
    }
   ],
   "source": [
    "#for with tuple\n",
    "t=(1,2,3,4,5,6,7,8,9,10)\n",
    "for i in t:\n",
    "    print(i)\n",
    "#getting a higher marks\n",
    "marks=(23,21,56,20,67,12)\n",
    "high=marks[0]\n",
    "for i in marks:      \n",
    "      if i>high:\n",
    "        high=i\n",
    "print(high)   \n",
    "\n",
    "#smallest marks\n",
    "marks=(23,21,56,20,67,12)\n",
    "high=marks[0]\n",
    "for i in marks:      \n",
    "      if i<high:\n",
    "        min=i\n",
    "print(min)\n",
    "#range of marks\n",
    "marks=(23,21,56,20,67,12)\n",
    "print(len(marks))\n",
    "for i in range(len(marks)):      \n",
    "      print(i,\"=>\",marks[i])\n",
    "#with position i.e index\n",
    "marks=(23,21,56,20,67,12)\n",
    "print(len(marks))\n",
    "low=marks[0]\n",
    "for i in range(len(marks)):      \n",
    "      if marks[i]<low:\n",
    "            pos=i\n",
    "            low=marks[i]\n",
    "print(\"minimum marks are\",low,\"found at position\",pos)\n",
    "high=marks[0]\n",
    "for i in range(len(marks)):\n",
    "    if marks[i]>high:\n",
    "        pos=i\n",
    "        high=marks[i]\n",
    "print(\"Maximum marks are\",high,\"found at position\",pos)"
   ]
  },
  {
   "cell_type": "markdown",
   "id": "45a7c4e7",
   "metadata": {},
   "source": [
    "# LIST=[]"
   ]
  },
  {
   "cell_type": "code",
   "execution_count": 5,
   "id": "0a35d2f9",
   "metadata": {},
   "outputs": [
    {
     "name": "stdout",
     "output_type": "stream",
     "text": [
      "[1, 2, 3, 4, 5]\n",
      "[1, 2, 3, 4, 5, 6]\n",
      "['oil', 'eggs', 'sugar']\n",
      "['oil', 'sugar']\n",
      "['sugar']\n",
      "[1, 2, 3, 5]\n",
      "[1, 2, 3, 'Pratik', 5]\n"
     ]
    }
   ],
   "source": [
    "#list\n",
    "l=[1,2,3,4,5]\n",
    "print(l)\n",
    "#append\n",
    "l.append(6)\n",
    "print(l)\n",
    "l1=[\"oil\",\"eggs\",\"sugar\"]\n",
    "print(l1)\n",
    "l1.remove(\"eggs\")\n",
    "print(l1)\n",
    "l1.pop(0)  # in this case index value will be used\n",
    "print(l1)\n",
    "#list.insert(pop,value)\n",
    "l=[1,2,3,5]\n",
    "print(l)\n",
    "l.insert(3,\"Pratik\") #index and value\n",
    "print(l)"
   ]
  },
  {
   "cell_type": "markdown",
   "id": "d15b57e8",
   "metadata": {},
   "source": [
    "### Product and price"
   ]
  },
  {
   "cell_type": "code",
   "execution_count": 6,
   "id": "7490da4d",
   "metadata": {},
   "outputs": [
    {
     "name": "stdout",
     "output_type": "stream",
     "text": [
      "Enter a no of product:1\n",
      "Enter a name of product:OIL\n",
      "Enter a price of product:110\n",
      "[['OIL', 110]]\n"
     ]
    }
   ],
   "source": [
    "n=int(input(\"Enter a no of product:\"))\n",
    "pro=[]\n",
    "for i in range(n):\n",
    "    name=input(\"Enter a name of product:\")\n",
    "    price=int(input(\"Enter a price of product:\"))\n",
    "    pro.append([name,price])\n",
    "    print(pro)"
   ]
  },
  {
   "cell_type": "code",
   "execution_count": 7,
   "id": "415ae0fa",
   "metadata": {},
   "outputs": [
    {
     "name": "stdout",
     "output_type": "stream",
     "text": [
      "Enter a no of students: 1\n",
      "Enter a name: O\n",
      "Enter the marks: 90\n",
      "[['O', 90]]\n",
      "Enter a key to search:2\n",
      "key is found!\n"
     ]
    }
   ],
   "source": [
    "#list of student names and marks\n",
    "n=int(input(\"Enter a no of students: \"))\n",
    "stud=[]\n",
    "for i in range(n):\n",
    "    name=input(\"Enter a name: \")\n",
    "    marks=int(input(\"Enter the marks: \"))\n",
    "    stud.append([name,marks])\n",
    "    print(stud)\n",
    "#search operation\n",
    "l=[1,2,3,4,5]\n",
    "a=int(input(\"Enter a key to search:\"))\n",
    "if a in l:\n",
    "    print(\"key is found!\")\n",
    "else:\n",
    "    print(\"No key\")"
   ]
  },
  {
   "cell_type": "code",
   "execution_count": 8,
   "id": "3568dbd5",
   "metadata": {},
   "outputs": [
    {
     "name": "stdout",
     "output_type": "stream",
     "text": [
      "enter a key of search:3\n",
      "key is not found\n",
      "key is not found\n",
      "key is found position no 2\n",
      "key is not found\n",
      "key is not found\n",
      "enter a key to search:4\n",
      "key is found at 3\n"
     ]
    }
   ],
   "source": [
    "# use of membership operator\n",
    "l=[1,2,3,4,5]\n",
    "a=int(input(\"enter a key of search:\"))\n",
    "for i in range(len(l)):\n",
    "    if l[i]==a:\n",
    "        print(\"key is found\",\"position no\",i)\n",
    "        \n",
    "    else:\n",
    "        print(\"key is not found\")\n",
    "#use of flag word\n",
    "l=[1,2,3,4,5]\n",
    "a=int(input(\"enter a key to search:\"))\n",
    "flag=0\n",
    "for i in range(len(l)):\n",
    "    if l[i]==a:\n",
    "        flag=1\n",
    "        pos=i\n",
    "        break\n",
    "if flag==1:\n",
    "    print(\"key is found at\",pos)\n",
    "else:\n",
    "    print(\"key is not found\")"
   ]
  }
 ],
 "metadata": {
  "kernelspec": {
   "display_name": "Python 3",
   "language": "python",
   "name": "python3"
  },
  "language_info": {
   "codemirror_mode": {
    "name": "ipython",
    "version": 3
   },
   "file_extension": ".py",
   "mimetype": "text/x-python",
   "name": "python",
   "nbconvert_exporter": "python",
   "pygments_lexer": "ipython3",
   "version": "3.7.3"
  }
 },
 "nbformat": 4,
 "nbformat_minor": 5
}
