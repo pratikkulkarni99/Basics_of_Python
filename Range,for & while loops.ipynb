{
 "cells": [
  {
   "cell_type": "markdown",
   "id": "57dca6ae",
   "metadata": {},
   "source": [
    "# Range"
   ]
  },
  {
   "cell_type": "code",
   "execution_count": 5,
   "id": "3d354f62",
   "metadata": {},
   "outputs": [
    {
     "name": "stdout",
     "output_type": "stream",
     "text": [
      "[1, 2, 3, 4, 5, 6, 7, 8, 9]\n",
      "[1, 3, 5, 7, 9]\n",
      "[0, 2, 4, 6, 8]\n",
      "[0, 1, 2, 3, 4, 5, 6, 7, 8, 9]\n",
      "[10, 9, 8, 7, 6, 5, 4, 3, 2, 1]\n"
     ]
    }
   ],
   "source": [
    "# range(start,stop,step)\n",
    "print(list(range(1,10)))  #1-start 10-stop wil not include last value\n",
    "print(list(range(1,10,2))) #odd nos\n",
    "print(list(range(0,10,2)))  #even numbers\n",
    "print(list(range(10)))   #start range\n",
    "print(list(range(10,0,-1))) #revserse range"
   ]
  },
  {
   "cell_type": "markdown",
   "id": "2ebda604",
   "metadata": {},
   "source": [
    " # FOR LOOP"
   ]
  },
  {
   "cell_type": "code",
   "execution_count": 11,
   "id": "60766939",
   "metadata": {},
   "outputs": [
    {
     "name": "stdout",
     "output_type": "stream",
     "text": [
      "0\n",
      "Hello world\n",
      "1\n",
      "Hello world\n",
      "2\n",
      "Hello world\n",
      "3\n",
      "Hello world\n",
      "4\n",
      "Hello world\n",
      "0\n",
      "1\n",
      "2\n",
      "3\n",
      "4\n",
      "0\n",
      "1\n",
      "0\n",
      "1\n",
      "2\n"
     ]
    }
   ],
   "source": [
    "for i in range(5):\n",
    "    print(i)\n",
    "    print(\"Hello world\")\n",
    "     \n",
    "for i in range(5):\n",
    "    print(i)       #stop=10\n",
    "\n",
    "for i in range(2):\n",
    "    print(i)\n",
    "    \n",
    "for j in range(3):\n",
    "    print(j)"
   ]
  },
  {
   "cell_type": "markdown",
   "id": "9bd68305",
   "metadata": {},
   "source": [
    "# Print a pattern"
   ]
  },
  {
   "cell_type": "code",
   "execution_count": 43,
   "id": "dd619d1e",
   "metadata": {},
   "outputs": [
    {
     "name": "stdout",
     "output_type": "stream",
     "text": [
      " # # # #\n",
      " # # # #\n",
      "$$$$\n",
      "$$$$\n",
      "$$$$\n",
      "$$$$\n",
      "#\n",
      "##\n",
      "###\n",
      "####\n",
      "###\n",
      "##\n",
      "#\n"
     ]
    }
   ],
   "source": [
    "for i in range(2):\n",
    "    for j in range(4):\n",
    "        print(\" #\",end=\"\")\n",
    "    print()        \n",
    "\n",
    "for i in range(4):\n",
    "    for j in range(4):\n",
    "        print(\"$\",end=\"\")\n",
    "    print()\n",
    "    \n",
    "n=7\n",
    "mid=int(n/2)\n",
    "for i in range(n):\n",
    "    if i<=mid:\n",
    "        for j in range(i+1):\n",
    "            print(\"#\",end=\"\")\n",
    "    else:\n",
    "        for j in range(n-i):\n",
    "            print(\"#\",end=\"\")\n",
    "    print()"
   ]
  },
  {
   "cell_type": "code",
   "execution_count": 44,
   "id": "76101f26",
   "metadata": {},
   "outputs": [
    {
     "name": "stdout",
     "output_type": "stream",
     "text": [
      "Hello World\n",
      "Hello World\n",
      "Hello World\n",
      "Hello World\n",
      "Hello World\n"
     ]
    }
   ],
   "source": [
    "i=0\n",
    "while (i<5):\n",
    "    print(\"Hello World\")\n",
    "    i+=1"
   ]
  },
  {
   "cell_type": "code",
   "execution_count": 45,
   "id": "8fe1f5e2",
   "metadata": {},
   "outputs": [
    {
     "name": "stdout",
     "output_type": "stream",
     "text": [
      "0\n",
      "1\n",
      "2\n",
      "3 is found now break\n"
     ]
    }
   ],
   "source": [
    "#break statemnet\n",
    "for i in range(5):\n",
    "    if i==3:\n",
    "        print(\"3 is found now break\")\n",
    "        break\n",
    "    print(i)    "
   ]
  },
  {
   "cell_type": "code",
   "execution_count": 46,
   "id": "5016b815",
   "metadata": {},
   "outputs": [
    {
     "name": "stdout",
     "output_type": "stream",
     "text": [
      "0\n",
      "1\n",
      "2\n",
      "3 is found\n",
      "4\n"
     ]
    }
   ],
   "source": [
    "#continue\n",
    "for i in range(5):\n",
    "    if i==3:\n",
    "        print(\"3 is found\")\n",
    "        continue\n",
    "    print(i)    "
   ]
  },
  {
   "cell_type": "code",
   "execution_count": null,
   "id": "379ef358",
   "metadata": {},
   "outputs": [],
   "source": []
  }
 ],
 "metadata": {
  "kernelspec": {
   "display_name": "Python 3",
   "language": "python",
   "name": "python3"
  },
  "language_info": {
   "codemirror_mode": {
    "name": "ipython",
    "version": 3
   },
   "file_extension": ".py",
   "mimetype": "text/x-python",
   "name": "python",
   "nbconvert_exporter": "python",
   "pygments_lexer": "ipython3",
   "version": "3.7.3"
  }
 },
 "nbformat": 4,
 "nbformat_minor": 5
}
