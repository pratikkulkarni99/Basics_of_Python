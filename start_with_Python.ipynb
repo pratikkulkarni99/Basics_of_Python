{
 "cells": [
  {
   "cell_type": "markdown",
   "id": "4dcc1dc9",
   "metadata": {},
   "source": [
    "# INTERPRETER AND COMPILER"
   ]
  },
  {
   "cell_type": "code",
   "execution_count": null,
   "id": "a0dac2f5",
   "metadata": {},
   "outputs": [],
   "source": [
    "#compiler based-c,c++,java - on one go checks whole program\n",
    "#interprter based - Python on each line checks for error\n",
    "'''data types - 1)integer- whole no (9)\n",
    "                2)float- decimal point function (8.9)\n",
    "                3)string - a set of alphabets (\"ab\") or ('aa')\n",
    "                4)boolean-True or false (0 & 1)\n"
   ]
  },
  {
   "cell_type": "code",
   "execution_count": 3,
   "id": "26e385ee",
   "metadata": {},
   "outputs": [
    {
     "name": "stdout",
     "output_type": "stream",
     "text": [
      "<class 'int'>\n",
      "<class 'float'>\n",
      "<class 'str'>\n",
      "<class 'bool'>\n"
     ]
    }
   ],
   "source": [
    "# Getting types of each data\n",
    "a=5\n",
    "b=3.14\n",
    "c='hello'\n",
    "d=True\n",
    "print(type(a))\n",
    "print(type(b))\n",
    "print(type(c))\n",
    "print(type(d))"
   ]
  },
  {
   "cell_type": "markdown",
   "id": "da081f57",
   "metadata": {},
   "source": [
    "# Arithmatic operators"
   ]
  },
  {
   "cell_type": "code",
   "execution_count": 8,
   "id": "21a61dc8",
   "metadata": {},
   "outputs": [
    {
     "name": "stdout",
     "output_type": "stream",
     "text": [
      "7\n",
      "3\n",
      "10\n",
      "2.5\n",
      "1\n",
      "2\n",
      "25\n"
     ]
    }
   ],
   "source": [
    "\n",
    "a=5 \n",
    "b=2   \n",
    "print(a+b)#simple addition\n",
    "print(a-b)#substraction\n",
    "print(a*b)#multiplication\n",
    "print(a/b)#DIVISION\n",
    "print(a%b)#shows remainder\n",
    "print(a//b)#returns a division without a decimal point\n",
    "print(a**b)# 5^2=25"
   ]
  },
  {
   "cell_type": "markdown",
   "id": "bf0c351f",
   "metadata": {},
   "source": [
    "# comparison operators"
   ]
  },
  {
   "cell_type": "code",
   "execution_count": 10,
   "id": "6c5f653a",
   "metadata": {},
   "outputs": [
    {
     "name": "stdout",
     "output_type": "stream",
     "text": [
      "False\n",
      "True\n",
      "False\n",
      "True\n",
      "False\n",
      "True\n"
     ]
    }
   ],
   "source": [
    "\n",
    "a=8\n",
    "b=9\n",
    "print(a==b)#equal to\n",
    "print(a!=b)#not equal to\n",
    "print(a>b)#a is greater than b\n",
    "print(a<b)#a is smaller than b\n",
    "print(a>=b)#greater than or equal to\n",
    "print(a<=b)#less than or equal to"
   ]
  },
  {
   "cell_type": "markdown",
   "id": "46697e37",
   "metadata": {},
   "source": [
    "# Logical Operators"
   ]
  },
  {
   "cell_type": "code",
   "execution_count": 14,
   "id": "b35ed317",
   "metadata": {},
   "outputs": [
    {
     "name": "stdout",
     "output_type": "stream",
     "text": [
      "False\n",
      "True\n",
      "False\n",
      "True\n"
     ]
    }
   ],
   "source": [
    "#logical operators\n",
    "a=True\n",
    "b=False\n",
    "print(a and b)#based on truth table of AND \n",
    "print(a or b)#based on OR TT\n",
    "print(not a)#not tt\n",
    "print(not b)"
   ]
  },
  {
   "cell_type": "markdown",
   "id": "112d6bc6",
   "metadata": {},
   "source": [
    "# assignment operators"
   ]
  },
  {
   "cell_type": "code",
   "execution_count": 26,
   "id": "933b9672",
   "metadata": {},
   "outputs": [
    {
     "name": "stdout",
     "output_type": "stream",
     "text": [
      "7\n",
      "5\n",
      "10\n",
      "5.0\n",
      "2.0\n",
      "0.0\n"
     ]
    }
   ],
   "source": [
    "a=5\n",
    "a+=2     #a=a+2\n",
    "print(a)\n",
    "a-=2      #a=a-2\n",
    "print(a)\n",
    "a*=2       #a*2=a\n",
    "print(a)\n",
    "a/=2       #a/2=a\n",
    "print(a)\n",
    "a//=2      #a//2=a\n",
    "print(a)\n",
    "a%=2       #a%2=a\n",
    "print(a)"
   ]
  },
  {
   "cell_type": "markdown",
   "id": "4214309d",
   "metadata": {},
   "source": [
    " # Membership operator"
   ]
  },
  {
   "cell_type": "code",
   "execution_count": 32,
   "id": "be6ab478",
   "metadata": {},
   "outputs": [
    {
     "data": {
      "text/plain": [
       "True"
      ]
     },
     "execution_count": 32,
     "metadata": {},
     "output_type": "execute_result"
    }
   ],
   "source": [
    "\n",
    "# in and not in\n",
    "a=(1,2,4,5)\n",
    "1 in a   #checks for items present or not\n",
    "\n",
    "9 in a\n",
    "\n",
    "7 not in a"
   ]
  },
  {
   "cell_type": "code",
   "execution_count": null,
   "id": "e45a6daa",
   "metadata": {},
   "outputs": [],
   "source": []
  }
 ],
 "metadata": {
  "kernelspec": {
   "display_name": "Python 3",
   "language": "python",
   "name": "python3"
  },
  "language_info": {
   "codemirror_mode": {
    "name": "ipython",
    "version": 3
   },
   "file_extension": ".py",
   "mimetype": "text/x-python",
   "name": "python",
   "nbconvert_exporter": "python",
   "pygments_lexer": "ipython3",
   "version": "3.7.3"
  }
 },
 "nbformat": 4,
 "nbformat_minor": 5
}
