{
 "cells": [
  {
   "cell_type": "markdown",
   "id": "62404dcb",
   "metadata": {},
   "source": [
    "## BASICS_OF_PYTHON required for Machine learning and Data Science\n",
    "#### Created by- Pratik B Kulkarni"
   ]
  },
  {
   "cell_type": "markdown",
   "id": "f8855e0e",
   "metadata": {},
   "source": [
    "#### This notebook contains following topics\n",
    "#### 1)What is Programming Languge?Why we need programming?\n",
    "#### 2)What is Python language?Features of Python language.\n",
    "#### 3)Variables,Keywords,Identifiers,Identation in Python\n",
    "#### 4)Operators in Python\n",
    "#### 5)Data Types in Python-Numeric,String,Tuple,List,Dictionary,Set and its methods\n",
    "#### 6)Type Casting in Python\n",
    "#### 7)Control statements- if,if else,if elif else\n",
    "#### 8)Loops- for,loops and for else,while else\n",
    "#### 9)Statements in Python-break,continue,pass\n",
    "#### 10)Functions and its examples.\n",
    "#### 11)Lambda,map,reduce functions with its examples"
   ]
  },
  {
   "cell_type": "markdown",
   "id": "d47bd59a",
   "metadata": {},
   "source": [
    "#### What is programming langauge?\n",
    "#### As a human being uses different types of languages in order to send a message to another human being.In the same way machine or computer only understands a binary language.So we need a programming langauge in order to transmit message to  machine.Python such type a language which can send message from human being to machine in order to train a machine,by use of programming language we can easily comminicate with machine."
   ]
  },
  {
   "cell_type": "markdown",
   "id": "36664a04",
   "metadata": {},
   "source": [
    "#### Python language and its features\n",
    "#### Python is General purpose,dynamic,highlevel and interpreted programming language.It supports oops to develop applications.\n",
    "#### It is very simple and easy to easy\n",
    "#### <---features of python--->\n",
    "#### 1)Easy to learn and read                           &Standard libraries\n",
    "#### 2)Shorter codes                                         &Procedural programming\n",
    "#### 3)Easy tranferable                                     &Functinal programming\n",
    "#### 4)object oriented                                       &Exception handling - error handling"
   ]
  },
  {
   "cell_type": "markdown",
   "id": "fbdfc699",
   "metadata": {},
   "source": [
    "#### Applications of Python\n",
    "#### ->web developement- GUI,TKINTER\n",
    "#### ->web applications-Djando,flask\n",
    "#### ->AI based,ML based,Database,Networking etc"
   ]
  },
  {
   "cell_type": "markdown",
   "id": "1e12e50e",
   "metadata": {},
   "source": [
    "### Print function\n",
    "#### syntax: print(value.,..,..,..., sep=\" \",end=\"\\n\",file=sys.stdout,flush=False)"
   ]
  },
  {
   "cell_type": "code",
   "execution_count": 24,
   "id": "cfbb2658",
   "metadata": {},
   "outputs": [
    {
     "name": "stdout",
     "output_type": "stream",
     "text": [
      "10*22*44*Machine learning*"
     ]
    }
   ],
   "source": [
    "x=10\n",
    "y=22\n",
    "z=44\n",
    "print(x,y,z,sep=\"*\",end=\"*\",flush=False)\n",
    "print(\"Machine learning\",end=\"*\")"
   ]
  },
  {
   "cell_type": "markdown",
   "id": "4dc66782",
   "metadata": {},
   "source": [
    "### Variable-It is used to store any type of data.ex.integer,string,float,tuple,list,dictionary"
   ]
  },
  {
   "cell_type": "code",
   "execution_count": null,
   "id": "b601fd19",
   "metadata": {},
   "outputs": [],
   "source": [
    "#assiqgning a variable\n",
    "x=8\n",
    "y=9\n",
    "print(x)\n",
    "name=\"Pratik\"\n",
    "print(name)\n",
    "#addition\n",
    "a=87\n",
    "b=45\n",
    "c=a+b\n",
    "#printing result\n",
    "print(c)"
   ]
  },
  {
   "cell_type": "markdown",
   "id": "2eb028a7",
   "metadata": {},
   "source": [
    "### Assigning values to multiple variable"
   ]
  },
  {
   "cell_type": "code",
   "execution_count": 26,
   "id": "c5ef10b6",
   "metadata": {},
   "outputs": [
    {
     "name": "stdout",
     "output_type": "stream",
     "text": [
      "33 20 90\n",
      "Pratik Bhalchandra Kulkarni\n"
     ]
    }
   ],
   "source": [
    "a,b,c=33,20,90\n",
    "print(a,b,c)\n",
    "f,s,m=\"Pratik\",\"Bhalchandra\",\"Kulkarni\"\n",
    "print(f,s,m)"
   ]
  },
  {
   "cell_type": "markdown",
   "id": "6d13120f",
   "metadata": {},
   "source": [
    "### Single value to multiple varibles"
   ]
  },
  {
   "cell_type": "code",
   "execution_count": 27,
   "id": "73e6b0e5",
   "metadata": {},
   "outputs": [
    {
     "name": "stdout",
     "output_type": "stream",
     "text": [
      "36\n",
      "36\n"
     ]
    }
   ],
   "source": [
    "a=12\n",
    "b=12\n",
    "c=12\n",
    "print(a+b+c)\n",
    "#or\n",
    "a=b=c=12\n",
    "print(a+b+c)"
   ]
  },
  {
   "cell_type": "markdown",
   "id": "3a8d331b",
   "metadata": {},
   "source": [
    "### Type function - It is used to get data type of a data."
   ]
  },
  {
   "cell_type": "code",
   "execution_count": 28,
   "id": "f6da361d",
   "metadata": {},
   "outputs": [
    {
     "name": "stdout",
     "output_type": "stream",
     "text": [
      "<class 'str'>\n",
      "<class 'float'>\n",
      "<class 'int'>\n",
      "<class 'list'>\n",
      "<class 'tuple'>\n",
      "<class 'dict'>\n"
     ]
    }
   ],
   "source": [
    "x=90\n",
    "y=98.4\n",
    "x=\"Pratik\"\n",
    "print(type(x))\n",
    "print(type(y))\n",
    "print(type(z))\n",
    "L=[33,2,12,44]\n",
    "print(type(L))\n",
    "T=(7,4,2,3)\n",
    "print(type(T))\n",
    "D={}\n",
    "print(type(D))"
   ]
  },
  {
   "cell_type": "markdown",
   "id": "d3109e91",
   "metadata": {},
   "source": [
    "### Comments"
   ]
  },
  {
   "cell_type": "code",
   "execution_count": 29,
   "id": "6933e8df",
   "metadata": {},
   "outputs": [
    {
     "name": "stdout",
     "output_type": "stream",
     "text": [
      "99\n"
     ]
    }
   ],
   "source": [
    "#this is a comment\n",
    "#as we give # line at start then colour of line changes\n",
    "s=9\n",
    "i=90\n",
    "c=s+i\n",
    "print(c) #adition of two nos"
   ]
  },
  {
   "cell_type": "code",
   "execution_count": 30,
   "id": "2b44ce30",
   "metadata": {},
   "outputs": [
    {
     "data": {
      "text/plain": [
       "'lllll\\n'"
      ]
     },
     "execution_count": 30,
     "metadata": {},
     "output_type": "execute_result"
    }
   ],
   "source": [
    "# this is not a comment it is a Doc-string but can be treated as a comment\n",
    "'''lllll\n",
    "'''"
   ]
  },
  {
   "cell_type": "markdown",
   "id": "d8a9420a",
   "metadata": {},
   "source": [
    "### KEYWRODS - reserved words in python that are already to known to python"
   ]
  },
  {
   "cell_type": "code",
   "execution_count": 31,
   "id": "1ab7f9b1",
   "metadata": {},
   "outputs": [
    {
     "name": "stdout",
     "output_type": "stream",
     "text": [
      "\n",
      "Here is a list of the Python keywords.  Enter any keyword to get more help.\n",
      "\n",
      "False               class               from                or\n",
      "None                continue            global              pass\n",
      "True                def                 if                  raise\n",
      "and                 del                 import              return\n",
      "as                  elif                in                  try\n",
      "assert              else                is                  while\n",
      "async               except              lambda              with\n",
      "await               finally             nonlocal            yield\n",
      "break               for                 not                 \n",
      "\n",
      "['False', 'None', 'True', 'and', 'as', 'assert', 'async', 'await', 'break', 'class', 'continue', 'def', 'del', 'elif', 'else', 'except', 'finally', 'for', 'from', 'global', 'if', 'import', 'in', 'is', 'lambda', 'nonlocal', 'not', 'or', 'pass', 'raise', 'return', 'try', 'while', 'with', 'yield']\n"
     ]
    },
    {
     "data": {
      "text/plain": [
       "35"
      ]
     },
     "execution_count": 31,
     "metadata": {},
     "output_type": "execute_result"
    }
   ],
   "source": [
    "help(\"keywords\")\n",
    "import keyword\n",
    "keyword.kwlist\n",
    "x=keyword.kwlist\n",
    "print(x)\n",
    "len(x)"
   ]
  },
  {
   "cell_type": "markdown",
   "id": "cb88f11d",
   "metadata": {},
   "source": [
    "### to check KEYWORDS are valid or not"
   ]
  },
  {
   "cell_type": "code",
   "execution_count": 32,
   "id": "18d158cb",
   "metadata": {},
   "outputs": [
    {
     "name": "stdout",
     "output_type": "stream",
     "text": [
      "True\n",
      "False\n"
     ]
    }
   ],
   "source": [
    "import keyword\n",
    "a=keyword.iskeyword(\"class\")\n",
    "print(a)\n",
    "b=keyword.iskeyword(\"Pratik\")\n",
    "print(b)"
   ]
  },
  {
   "cell_type": "markdown",
   "id": "179dc246",
   "metadata": {},
   "source": [
    "### IDENTIFIERS -This words are not known to python.This are user defined words"
   ]
  },
  {
   "cell_type": "code",
   "execution_count": 33,
   "id": "ac7cb15a",
   "metadata": {},
   "outputs": [
    {
     "name": "stdout",
     "output_type": "stream",
     "text": [
      "50\n",
      "Pratik\n",
      "[3 4]\n"
     ]
    }
   ],
   "source": [
    "x=20\n",
    "y=30\n",
    "print(x+y)\n",
    "#in order to understand inside x 10 is stored we defined it as x=10 without we cannot understand 20\n",
    "name=\"Pratik\"\n",
    "print(name)\n",
    "#by observing a data i.e Pratik we cannot understand what is that? so we defined as a name\n",
    "import numpy as np\n",
    "df=np.array([3,4])\n",
    "print(df)\n",
    "#from above example we get to know that there is a dataframe"
   ]
  },
  {
   "cell_type": "markdown",
   "id": "ede521e4",
   "metadata": {},
   "source": [
    "###  to Check IDENTIFIER is valid or not?"
   ]
  },
  {
   "cell_type": "code",
   "execution_count": 34,
   "id": "4ecbc062",
   "metadata": {},
   "outputs": [
    {
     "name": "stdout",
     "output_type": "stream",
     "text": [
      "True\n",
      "False\n",
      "False\n"
     ]
    }
   ],
   "source": [
    "### CHECK indentifier or not\n",
    "a=\"name\".isidentifier()\n",
    "print(a)\n",
    "b=\"0ol\".isidentifier()\n",
    "print(b)\n",
    "v=\"$u\".isidentifier()\n",
    "print(v)"
   ]
  },
  {
   "cell_type": "markdown",
   "id": "b259dbae",
   "metadata": {},
   "source": [
    "### INDENTATION - Python does not use ({}) to indicate blocks of class and function definations or flow control. Blocks of code in Python are denoted by identation "
   ]
  },
  {
   "cell_type": "code",
   "execution_count": 35,
   "id": "d49b8c9d",
   "metadata": {},
   "outputs": [
    {
     "name": "stdout",
     "output_type": "stream",
     "text": [
      "Program started..\n",
      "Second line..\n",
      "Third line..\n",
      "6 is greater\n"
     ]
    }
   ],
   "source": [
    "#JUST testing a indentation in python\n",
    "print(\"Program started..\")\n",
    "print(\"Second line..\")\n",
    "print(\"Third line..\")\n",
    "a=5\n",
    "b=6\n",
    "if (a<b):\n",
    "    print(\"6 is greater\")\n",
    "else:\n",
    "    print(\"No\")\n",
    "#here indentation is mentained by python when we \"enter\" is"
   ]
  },
  {
   "cell_type": "markdown",
   "id": "e3d24681",
   "metadata": {},
   "source": [
    "### Data type - \n",
    "#### Data type represents type of value hold by variables.\n",
    "#### if a=4 that means assume that container whose name is a  in that 4 is stored .\n",
    "#### You need not to declare explicitely it,while creating python understands automatically"
   ]
  },
  {
   "cell_type": "code",
   "execution_count": 36,
   "id": "522503df",
   "metadata": {},
   "outputs": [
    {
     "name": "stdout",
     "output_type": "stream",
     "text": [
      "2\n",
      "9\n",
      "72\n",
      "0\n",
      "9.0\n",
      "4\n",
      "0\n",
      "81\n"
     ]
    }
   ],
   "source": [
    "#basic arithmatic operators\n",
    "a=1+1 #add\n",
    "print(a)\n",
    "b=9-0 #sub\n",
    "print(b)\n",
    "\n",
    "c=8*9 #mul\n",
    "print(c)\n",
    "d=9*0 #mul\n",
    "print(d)\n",
    "e=9/1 #exact ans without round off\n",
    "print(e)\n",
    "\n",
    "f=9//2 #without  a float with round off\n",
    "print(f)\n",
    "u=10%2  #finds a remainder\n",
    "print(u)\n",
    "z=9**2  #power\n",
    "print(z)"
   ]
  },
  {
   "cell_type": "markdown",
   "id": "74e5f7f1",
   "metadata": {},
   "source": [
    "### NUMERICAL DATA TYPES-integer(int),float(float),complex no.(real+imaginary)\n",
    "#### 1)integer- from +infinity to -infinity without a decimal point\n",
    "#### 2)float-from +infinity to - infinity with a decimal point without whole no.\n",
    "#### 3)complex no.-which contains real and imaginary part (x+jY) x=real,y=imaginary"
   ]
  },
  {
   "cell_type": "code",
   "execution_count": 37,
   "id": "38494e72",
   "metadata": {},
   "outputs": [
    {
     "name": "stdout",
     "output_type": "stream",
     "text": [
      "<class 'int'>\n",
      "<class 'float'>\n",
      "<class 'complex'>\n",
      "30\n",
      "200\n",
      "10\n",
      "2.0\n",
      "(11+12j)\n",
      "(-8+56j)\n",
      "(5+4j)\n",
      "(2.24-0.32j)\n",
      "11.0\n",
      "12.0\n"
     ]
    }
   ],
   "source": [
    "#using type to get datatype\n",
    "x=67\n",
    "print(type(x))\n",
    "y=9.6\n",
    "print(type(y))\n",
    "z=9+8j\n",
    "print(type(z))\n",
    "\n",
    "x,y=20,10\n",
    "print(x+y)\n",
    "print(x*y)\n",
    "print(x-y)\n",
    "print(x/y)\n",
    "\n",
    "#same can be done in complex\n",
    "d=8+8j\n",
    "f=3+4J\n",
    "print(d+f)\n",
    "print(d*f)\n",
    "print(d-f)\n",
    "print(d/f)\n",
    "\n",
    "#real and imaginary\n",
    "s=f+d\n",
    "print(s.real)\n",
    "print(s.imag)"
   ]
  },
  {
   "cell_type": "markdown",
   "id": "72bbc12d",
   "metadata": {},
   "source": [
    "### STRING DATA TYPE :\n",
    "#### 1) A sequence of characters placed with in single,double or triple quotes is a String.\n",
    "#### 2)Strings are immutable"
   ]
  },
  {
   "cell_type": "code",
   "execution_count": 38,
   "id": "c0ee0d89",
   "metadata": {},
   "outputs": [
    {
     "name": "stdout",
     "output_type": "stream",
     "text": [
      "<class 'int'>\n",
      "<class 'float'>\n",
      "<class 'str'>\n",
      "<class 'str'>\n",
      "py\n"
     ]
    }
   ],
   "source": [
    "x=4\n",
    "print(type(x))\n",
    "y=4.4\n",
    "print(type(y))\n",
    "\n",
    "#in case of srings\n",
    "g=\"4\"\n",
    "print(type(g))\n",
    "j=\"4.4\"\n",
    "print(type(j))\n",
    "\n",
    "#immutability\n",
    "x=\"py\"\n",
    "print(x)\n",
    "#x[0]=3 #it cannot be modified in string shows error"
   ]
  },
  {
   "cell_type": "markdown",
   "id": "43679c9b",
   "metadata": {},
   "source": [
    "###  INDEXING AND SLICING OPERATOR\n",
    "#### Slice operator = [start:end:steps] , can be used for string,list etc. With help of it we can easily find first,last or any value in string,list or data frame etc."
   ]
  },
  {
   "cell_type": "code",
   "execution_count": 39,
   "id": "7e5191d7",
   "metadata": {},
   "outputs": [
    {
     "name": "stdout",
     "output_type": "stream",
     "text": [
      "<class 'str'>\n",
      "7\n",
      "B\n",
      "ABCDE\n",
      "ACE\n",
      "EFG\n",
      "ABCDE\n"
     ]
    }
   ],
   "source": [
    "#it is based on index of no. index always starts from 0\n",
    "x=\"ABCDEFG\"\n",
    "print(type(x))\n",
    "print(len(x)) #here with help of len we can get no of elements which start from 1\n",
    "print(x[1])   #getting 2nd index i.e first element of x\n",
    "print(x[0:5]) #using a end to get first 5 values\n",
    "print(x[0:5:2]) #getting values in steps of 2\n",
    "\n",
    "#start index\n",
    "print(x[4:])  #it will auto consider last value as end of slice operator\n",
    "print(x[:5])  #it will auto consider 0th value as a start value\n"
   ]
  },
  {
   "cell_type": "markdown",
   "id": "65d7f0e5",
   "metadata": {},
   "source": [
    "### NEGATIVE INDEXING - [start:stop:step]"
   ]
  },
  {
   "cell_type": "code",
   "execution_count": 40,
   "id": "bc2e9d6f",
   "metadata": {},
   "outputs": [
    {
     "name": "stdout",
     "output_type": "stream",
     "text": [
      "Pratik\n",
      "k\n",
      "k\n",
      "a\n",
      "\n",
      "kitarP\n",
      "kitarP\n",
      "kitarP si EMAN Ym\n"
     ]
    }
   ],
   "source": [
    "name=\"Pratik\"\n",
    "print(name)\n",
    "print(name[5])  #+ve index\n",
    "print(name[-1]) #-ve index\n",
    "print(name[-4])\n",
    "\n",
    "#reversing a string\n",
    "print(name[-1:-7])  #no output\n",
    "print(name[-1:-7:-1]) #we have to reverse string so -1 steps\n",
    "print(name[-1::-1])  #also for reverse\n",
    "\n",
    "#whole string revrsing\n",
    "hi=\"mY NAME is Pratik\"\n",
    "print(hi[-1::-1])"
   ]
  },
  {
   "cell_type": "markdown",
   "id": "32fc70c2",
   "metadata": {},
   "source": [
    "### Some important methods of string"
   ]
  },
  {
   "cell_type": "code",
   "execution_count": 41,
   "id": "0a4f04b1",
   "metadata": {},
   "outputs": [
    {
     "name": "stdout",
     "output_type": "stream",
     "text": [
      "rohit\n",
      "pratik\n",
      "ROHIT\n",
      "PRATIK\n",
      "I Like Python Language\n",
      "Python Is Very Easy To Understand\n",
      "True\n",
      "False\n",
      "True\n",
      "True\n",
      "Sum of 33 and 29 is 62\n"
     ]
    }
   ],
   "source": [
    "x=\"Rohit\"\n",
    "y=\"Pratik\"\n",
    "#getting all values in lower case\n",
    "print(x.lower())\n",
    "print(y.lower())\n",
    "\n",
    "#getting all values in upper case \n",
    "print(x.upper())\n",
    "print(y.upper())\n",
    "\n",
    "#Output in form of Title-->1st letter Upper case\n",
    "X=\"I like Python language\"\n",
    "Y=\"python is very easy to understand\"\n",
    "print(X.title())\n",
    "print(Y.title())\n",
    "\n",
    "#to check starts with or not\n",
    "print(X.startswith(\"I\"))\n",
    "print(Y.startswith(\"LK\"))\n",
    "\n",
    "#to check ends with or not \n",
    "print(X.endswith(\"e\"))\n",
    "print(Y.endswith(\"understand\"))\n",
    "\n",
    "#format method \n",
    "x=33\n",
    "y=29\n",
    "sum=x+y\n",
    "#our expected output is sum of x and y is 62\n",
    "print(\"Sum of {} and {} is {}\".format(x,y,sum))"
   ]
  },
  {
   "cell_type": "markdown",
   "id": "4041f0fb",
   "metadata": {},
   "source": [
    "### Some more important methods in string"
   ]
  },
  {
   "cell_type": "code",
   "execution_count": 42,
   "id": "3594fe1a",
   "metadata": {},
   "outputs": [
    {
     "name": "stdout",
     "output_type": "stream",
     "text": [
      "mY NAME IS pRATIK IS A\n",
      "2\n",
      "8\n",
      "4\n",
      "8\n",
      "0\n",
      "M*y* *n*a*m*e* *i*s* *P*r*a*t*i*k* *i*s* *a\n",
      "M#y# #n#a#m#e# #i#s# #P#r#a#t#i#k# #i#s# #a\n",
      "<class 'list'>\n",
      "['My', 'name', 'is', 'Pratik', 'is', 'a']\n"
     ]
    }
   ],
   "source": [
    "#swapcase-to change from upper case to lower case or lower to upper case\n",
    "str=\"My name is Pratik is a\"\n",
    "print(str.swapcase())\n",
    "\n",
    "#count-to count no of observations \n",
    "print(str.count(\"is\"))\n",
    "\n",
    "#find-returns lowest index where particular word is present\n",
    "print(str.find(\"is\"))\n",
    "\n",
    "#index-returns a lowest index where substring is found\n",
    "print(str.index(\"a\"))\n",
    "print(str.index(\"i\"))\n",
    "\n",
    "#rindex-returns a considering reverse values,same as index method\n",
    "print(str.rindex(\"M\")) \n",
    "\n",
    "#join - in order to two separate a string by using particular character\n",
    "print((\"*\").join(str))\n",
    "print((\"#\").join(str))\n",
    "\n",
    "#split- in order to separate a string \n",
    "words=str.split(\" \")\n",
    "print(type(words))\n",
    "print(words)\n",
    "\n",
    "#for documentation of whole string ->help(\"str\")"
   ]
  },
  {
   "cell_type": "code",
   "execution_count": 43,
   "id": "fe59d87b",
   "metadata": {},
   "outputs": [
    {
     "name": "stdout",
     "output_type": "stream",
     "text": [
      " a:2 b:1 c:2 y:1\n",
      "sihT\n",
      "si\n",
      "ym\n",
      "koob\n",
      "None None None None\n",
      "None\n"
     ]
    }
   ],
   "source": [
    "x=\"aabccy\"\n",
    "a=x.count(\"a\")\n",
    "b=x.count(\"b\")\n",
    "c=x.count(\"c\")\n",
    "y=x.count(\"y\")\n",
    "ans=print(\" a:{} b:{} c:{} y:{}\".format(a,b,c,y))\n",
    "i=\"This is my book\"\n",
    "p=i[0:4]\n",
    "j=i[5:7]\n",
    "k=i[8:10]\n",
    "l=i[11:15]\n",
    "p=print(p[-1::-1])\n",
    "j=print(j[-1::-1])\n",
    "k=print(k[-1::-1])\n",
    "l=print(l[-1::-1])\n",
    "f=print(\"{} {} {} {}\".format(p,j,k,l))\n",
    "print(f)"
   ]
  },
  {
   "cell_type": "markdown",
   "id": "cfbe5ec1",
   "metadata": {},
   "source": [
    "### LIST- Indexed collection of item in sequential manner.have properties mutable,duplicate and can contain all data types."
   ]
  },
  {
   "cell_type": "code",
   "execution_count": 59,
   "id": "99e2ae15",
   "metadata": {},
   "outputs": [
    {
     "name": "stdout",
     "output_type": "stream",
     "text": [
      "5\n",
      "35\n",
      "11\n",
      "[21, 32, 24, 35]\n",
      "33\n",
      "[11, 21, 32, 24, 35, 22, 4, 5, 33, 7]\n",
      "[11, 21, 32, 24, 35, 22, 4, 5, 33, 7, 11, 21, 32, 24, 35, 22, 4, 5, 33, 7]\n",
      "11\n",
      "21\n",
      "32\n",
      "24\n",
      "35\n",
      "22\n",
      "4\n",
      "5\n",
      "33\n",
      "7\n",
      "True\n",
      "True\n"
     ]
    }
   ],
   "source": [
    "# functions\n",
    "# slicing operator -[start:stop:step]\n",
    "List1=[11,21,32,24,35]\n",
    "print(len(List1))  #getting length of a list\n",
    "print(max(List1))  #maximum no of list\n",
    "print(min(List1))  #minimum no. of a list\n",
    "print(List1[1::])\n",
    "\n",
    "List2=[22,4,5,33,7]   #it returns ascii code of a aphabet\n",
    "print(max(List2))\n",
    "\n",
    "#concat            #joins two lists\n",
    "List3=List1+List2\n",
    "print(List3)\n",
    "\n",
    "#repeat           #repeats a list\n",
    "print(List3*2)\n",
    "\n",
    "#retrive single element from list\n",
    "for i in List3:\n",
    "    print(i)\n",
    "\n",
    "#membership operator - in and not in\n",
    "print(32 in List3)\n",
    "print(43 not in List3)"
   ]
  },
  {
   "cell_type": "markdown",
   "id": "ef0d1b9b",
   "metadata": {},
   "source": [
    "### Important methos in list"
   ]
  },
  {
   "cell_type": "code",
   "execution_count": 45,
   "id": "b6be9335",
   "metadata": {},
   "outputs": [
    {
     "name": "stdout",
     "output_type": "stream",
     "text": [
      "[3, 2, 5, 6, 9, 1, 44]\n",
      "1\n",
      "1\n",
      "4\n",
      "None\n",
      "[9, 3]\n",
      "[9, 10, 3]\n",
      "[9, 3]\n",
      "[9, 3]\n",
      "[9]\n",
      "[9, 8, 7]\n",
      "[7, 8, 9]\n",
      "[9, 8, 7]\n",
      "[9, 8, 7]\n",
      "[9, 8]\n",
      "[9, 8]\n",
      "[]\n",
      "[9, 8]\n"
     ]
    }
   ],
   "source": [
    "#append - to add item in list i.e in last position\n",
    "l=[3,2,5,6,9,1]\n",
    "l.append(44)\n",
    "print(l)\n",
    "\n",
    "#count - counts no of elements in list\n",
    "print(l.count(1))\n",
    "print(l.count(3))\n",
    "\n",
    "#index \n",
    "print(l.index(9))\n",
    "\n",
    "#clear\n",
    "print(l.clear())\n",
    "\n",
    "l.append(9)     #takes only one argument in parenthesis\n",
    "l.append(3)\n",
    "print(l)\n",
    "\n",
    "#insert  - can add element at position that we wish to be\n",
    "l.insert(1,10)\n",
    "print(l)\n",
    "\n",
    "#remove - can remove any element in in list\n",
    "l.remove(10)\n",
    "print(l)\n",
    "\n",
    "#pop - removes last element in list\n",
    "print(l)\n",
    "l.pop()\n",
    "print(l)\n",
    "\n",
    "#sort-sorts all list in ascending order\n",
    "l.append(8)\n",
    "l.append(7)\n",
    "print(l)\n",
    "l.sort()\n",
    "print(l)\n",
    "\n",
    "#reverse- sorts all list in descending order \n",
    "l.reverse()\n",
    "print(l)\n",
    "\n",
    "#copies address of object but not all data\n",
    "o=l\n",
    "print(l)\n",
    "l.pop()\n",
    "print(l)\n",
    "print(o)      #same change in both lists\n",
    "\n",
    "#copy - it not copies address but create a separate list\n",
    "p=l.copy()\n",
    "l.clear()\n",
    "print(l)\n",
    "print(p)        #here changes are different "
   ]
  },
  {
   "cell_type": "markdown",
   "id": "5f021e5a",
   "metadata": {},
   "source": [
    "### TUPLE- it is used to store sequence of immutable python objects"
   ]
  },
  {
   "cell_type": "code",
   "execution_count": 46,
   "id": "6899b0d3",
   "metadata": {},
   "outputs": [
    {
     "name": "stdout",
     "output_type": "stream",
     "text": [
      "<class 'tuple'>\n",
      "(22, 41, 49, 44)\n",
      "21\n",
      "(22, 49, 23)\n",
      "(21, 23, 44, 49, 41, 22, 23)\n",
      "<class 'tuple'>\n",
      "7\n",
      "49\n",
      "21\n",
      "22\n",
      "(12, 98, 55)\n",
      "(22, 43, 12, 56, 98, 66, 55, 22, 43, 12, 56, 98, 66, 55)\n",
      "(22, 43, 12, 56, 98, 66, 55, 22, 43, 12, 56, 98, 66, 55, 22, 43, 12, 56, 98, 66, 55)\n",
      "(22, 33, 44, 33, 55, 32, 54)\n",
      "33\n",
      "55\n",
      "32\n",
      "54\n",
      "True\n",
      "False\n",
      "False\n",
      "True\n"
     ]
    }
   ],
   "source": [
    "#tuple is created in () - round braces is used\n",
    "#to create a empty tuple \n",
    "#tuple allows duplicate \n",
    "t=tuple()\n",
    "print(type(t))\n",
    "#it is immutable - cannot change it once its assigned\n",
    "\n",
    "values=(23,22,41,49,44,23,21)\n",
    "#positive indexing\n",
    "print(values[1:5])\n",
    "#negative indexing \n",
    "print(values[-1])\n",
    "#slice operator\n",
    "print(values[1::2])\n",
    "print(values[-1::-1])\n",
    "\n",
    "#getting a type\n",
    "print(type(values))\n",
    "print(len(values))    #no of elements\n",
    "print(max(values))   #max value\n",
    "print(min(values))   #min value\n",
    "\n",
    "#indexing\n",
    "t4=(22,43,12,56,98,66,55)\n",
    "print(t4[0])\n",
    "print(t4[2::2])\n",
    "\n",
    "#repeat\n",
    "print(t4*2)\n",
    "print(t4*3)\n",
    "\n",
    "#concantenation\n",
    "t1=(22,33,44)\n",
    "t2=(33,55,32,54)\n",
    "print(t1+t2)\n",
    "\n",
    "#retrive element one by one\n",
    "for i in t2:\n",
    "    print(i)\n",
    "    \n",
    "#membership operators - in and not in\n",
    "print(22 in t1)\n",
    "print(11 in t1)\n",
    "print(55 not in t2)\n",
    "print(11  not in t2)"
   ]
  },
  {
   "cell_type": "markdown",
   "id": "af61088d",
   "metadata": {},
   "source": [
    "### SET-It is an unordered  and unindexed collection of objects ,which does not allows duplicates"
   ]
  },
  {
   "cell_type": "code",
   "execution_count": 47,
   "id": "a78b90d3",
   "metadata": {},
   "outputs": [
    {
     "name": "stdout",
     "output_type": "stream",
     "text": [
      "{33, 2, 3, 1, 22}\n",
      "{2, 3, 4, 5, 6}\n",
      "5\n",
      "33\n",
      "1\n",
      "{1, 2, 3, 4, 5}\n",
      "{1, 2, 3, 4, 5, 9}\n",
      "{1, 2, 3, 4, 5, 66, 33, 9, 44, 22}\n",
      "{1, 2, 4, 5, 66, 33, 9, 44, 22}\n",
      "{1, 2, 4, 5, 66, 33, 44, 22}\n",
      "None\n",
      "{67, 3, 4, 5, 8}\n",
      "{5, 6, 8, 9, 11}\n",
      "{8, 5}\n",
      "{67, 3, 4, 5, 6, 8, 9, 11}\n"
     ]
    }
   ],
   "source": [
    "# functions in set\n",
    "# to create a set={} \n",
    "#it does not allow duplicates\n",
    "s1={22,33,1,2,3,22}\n",
    "print(s1)\n",
    "#by use of list constructor\n",
    "l1=[3,2,4,5,6]\n",
    "s2=set(l1)\n",
    "print(s2)\n",
    "#length of set\n",
    "print(len(s1))\n",
    "#min/max value in set\n",
    "print(max(s1))\n",
    "print(min(s1))\n",
    "\n",
    "#methods in set\n",
    "s1={1,2,3,4,5}\n",
    "print(s1)\n",
    "#to add a element is last position\n",
    "s1.add(9)\n",
    "print(s1)\n",
    "#to add a multiple values in set\n",
    "s1.update([66,33,44,22])\n",
    "print(s1)\n",
    "\n",
    "#to remove an element\n",
    "s1.discard(3)   #if we tried to remove a element which is absent in set it does not shows error\n",
    "print(s1)\n",
    "s1.remove(9)    #if we tried to remove a element which is absent in set it will show error \n",
    "print(s1)\n",
    "#to clear a set\n",
    "s2={2,3,4,5}\n",
    "print(s2.clear())\n",
    "\n",
    "#intersection and union\n",
    "s3={3,4,5,67,8}\n",
    "s4={5,6,11,8,9}\n",
    "print(s3)\n",
    "print(s4)\n",
    "print(s3.intersection(s4))     #shows common elements in set\n",
    "print(s3.union(s4))            #shows complete set without a duplicate"
   ]
  },
  {
   "cell_type": "markdown",
   "id": "9e22237f",
   "metadata": {},
   "source": [
    "### DICTIONARY - It is collection of a key value pairs in that duplicates are not allowed.It is mutable"
   ]
  },
  {
   "cell_type": "code",
   "execution_count": 48,
   "id": "a75854ee",
   "metadata": {},
   "outputs": [
    {
     "name": "stdout",
     "output_type": "stream",
     "text": [
      "{'name': 'Pratik', 'Age': 21, 'city': 'Pune'}\n",
      "<class 'dict'>\n",
      "Pratik\n",
      "21\n",
      "{'name': 'Kulkarni', 'Age': 21, 'city': 'Pune'}\n",
      "name ==> Kulkarni\n",
      "Age ==> 21\n",
      "city ==> Pune\n",
      "{'name': 'Kulkarni', 'Age': 21, 'city': 'Pune'}\n",
      "dict_items([('name', 'Kulkarni'), ('Age', 21), ('city', 'Pune')])\n",
      "dict_keys(['name', 'Age', 'city'])\n",
      "dict_values(['Kulkarni', 21, 'Pune'])\n",
      "Kulkarni\n",
      "{}\n"
     ]
    }
   ],
   "source": [
    "#to create a dictionary - {} are used with : between key value pairs\n",
    "d1={\"name\":\"Pratik\",\n",
    "   \"Age\":21,\n",
    "   \"city\":\"Pune\"}\n",
    "print(d1)\n",
    "print(type(d1))\n",
    "d={}   #blank dictionary\n",
    "\n",
    "#access a values - need to pass keys to get values\n",
    "print(d1[\"name\"])\n",
    "print(d1[\"Age\"])  \n",
    "#update- we can update as it is a mutable\n",
    "d1[\"name\"]=\"Kulkarni\"\n",
    "print(d1)\n",
    "#delete - can delete entire dictinary by del\n",
    "d={\"one\":1,\"two\":2}\n",
    "del d\n",
    "\n",
    "#traverse\n",
    "for key in d1:\n",
    "    print(key,\"==>\",d1[key])\n",
    "\n",
    "    \n",
    "#methods in dictionary\n",
    "d2=d1.copy()\n",
    "print(d2)    #copies dictionary 1\n",
    "print(d2.items())  #returns a tuple with key value pairs\n",
    "print(d2.keys())  #returns a keys\n",
    "print(d2.values())  #returns a values\n",
    "print(d1.get('name'))  #to get a particular value\n",
    "d2.clear()\n",
    "print(d2)             #clears a whole dictionary\n"
   ]
  },
  {
   "cell_type": "markdown",
   "id": "de60ac1b",
   "metadata": {},
   "source": [
    "### TYPE CASTING  - conversion of one type of data into another type is called as Type - casting"
   ]
  },
  {
   "cell_type": "code",
   "execution_count": 49,
   "id": "f227e7a7",
   "metadata": {},
   "outputs": [
    {
     "name": "stdout",
     "output_type": "stream",
     "text": [
      "Enter your no 44\n",
      "44\n",
      "<class 'int'>\n",
      "49\n",
      "44.0\n",
      "50.0\n",
      "Enter your name:KK\n",
      "KK\n",
      "['K', 'K']\n",
      "<class 'list'>\n",
      "('K', 'K')\n",
      "<class 'tuple'>\n",
      "{'K'}\n",
      "<class 'set'>\n"
     ]
    }
   ],
   "source": [
    "#converting string to a integer\n",
    "V=(int(input(\"Enter your no \")))\n",
    "print(V)\n",
    "print(type(V))\n",
    "print(V+5)\n",
    "\n",
    "#converting any data type to float\n",
    "f1=float(V)\n",
    "print(f1)\n",
    "print(f1+6)\n",
    "\n",
    "#conversion data type to list\n",
    "v=input(\"Enter your name:\")\n",
    "print(v)\n",
    "l1=list(v)\n",
    "print(l1)\n",
    "print(type(l1))\n",
    "\n",
    "#conversion to tuple\n",
    "t1=tuple(v)\n",
    "print(t1)\n",
    "print(type(t1))\n",
    "\n",
    "#converion to set\n",
    "s1=set(v)\n",
    "print(s1)\n",
    "print(type(s1))"
   ]
  },
  {
   "cell_type": "markdown",
   "id": "360803d3",
   "metadata": {},
   "source": [
    "### Conditional  statements- if,if-else,if elif else"
   ]
  },
  {
   "cell_type": "code",
   "execution_count": 55,
   "id": "289d0fe6",
   "metadata": {},
   "outputs": [
    {
     "name": "stdout",
     "output_type": "stream",
     "text": [
      "Enter a number:44\n",
      "Your number is  44\n",
      "Yes a even number\n",
      "inside if block\n"
     ]
    }
   ],
   "source": [
    "n=int(input(\"Enter a number:\"))\n",
    "print(\"Your number is \",n)\n",
    "#even \n",
    "if (n%2==0):\n",
    "    print(\"Yes a even number\")\n",
    "    print(\"inside if block\")"
   ]
  },
  {
   "cell_type": "code",
   "execution_count": 56,
   "id": "7b5c45b4",
   "metadata": {},
   "outputs": [
    {
     "name": "stdout",
     "output_type": "stream",
     "text": [
      "Enter a number :21\n",
      "You entered no  21\n",
      "its a odd no\n",
      "inside else block\n"
     ]
    }
   ],
   "source": [
    "#if else -even or odd\n",
    "n=int(input(\"Enter a number :\"))\n",
    "print(\"You entered no \",n)\n",
    "#even\n",
    "if (n%2==0):\n",
    "    print(\"its a even no\")\n",
    "    print(\"inside if block\")\n",
    "else:\n",
    "    print(\"its a odd no\")\n",
    "    print(\"inside else block\")\n"
   ]
  },
  {
   "cell_type": "code",
   "execution_count": 57,
   "id": "1604d02f",
   "metadata": {},
   "outputs": [
    {
     "name": "stdout",
     "output_type": "stream",
     "text": [
      "Enter a no :21\n",
      "Your no is  21\n",
      "Yes divisible by 3\n"
     ]
    }
   ],
   "source": [
    "#to check divisible by 2 or 3\n",
    "n=int(input(\"Enter a no :\"))\n",
    "print(\"Your no is \",n)\n",
    "if(n%2==0):\n",
    "    print(\"Yes divisible by 2\")\n",
    "elif(n%3==0):\n",
    "    print(\"Yes divisible by 3\")\n",
    "else:\n",
    "    print(\"Nither 2 nor 3\")"
   ]
  },
  {
   "cell_type": "code",
   "execution_count": 58,
   "id": "7d2ab26e",
   "metadata": {},
   "outputs": [
    {
     "name": "stdout",
     "output_type": "stream",
     "text": [
      "Enter a number:-44\n",
      "Your nos. is  -44\n",
      "Negative number\n",
      "y\n",
      "u\n"
     ]
    }
   ],
   "source": [
    "#if elif else\n",
    "n=int(input(\"Enter a number:\"))\n",
    "print(\"Your nos. is \",n)\n",
    "#positive\n",
    "if(n>0):\n",
    "    print(\"Positive number\")\n",
    "elif(n<0):\n",
    "    print(\"Negative number\")\n",
    "else:\n",
    "    print(\"Its a zero\")\n",
    "    \n",
    "#+ve=true\n",
    "#-ve=True\n",
    "#0=false\n",
    "\n",
    "if 90:\n",
    "    print(\"y\")\n",
    "    \n",
    "if -9:\n",
    "    print(\"u\")\n",
    "if 0:\n",
    "    print(\"p\")\n",
    "#so here we can see condition for 0  is not printed "
   ]
  },
  {
   "cell_type": "markdown",
   "id": "9e51531a",
   "metadata": {},
   "source": [
    "### LOOPS- for->to print any value multiple time we use loops "
   ]
  },
  {
   "cell_type": "code",
   "execution_count": 76,
   "id": "8fdd968f",
   "metadata": {},
   "outputs": [
    {
     "name": "stdout",
     "output_type": "stream",
     "text": [
      "1\n",
      "2\n",
      "3\n",
      "4\n",
      "5\n",
      "6\n",
      "7\n",
      "8\n",
      "9\n",
      "10\n",
      "11\n",
      "12\n",
      "13\n",
      "14\n",
      "15\n",
      "5\n",
      "4\n",
      "3\n",
      "2\n",
      "1\n",
      "33\n",
      "22\n",
      "44\n",
      "54\n",
      "69\n",
      "sum is 222\n",
      "33\n",
      "22\n",
      "4590\n",
      "567\n",
      "sum is 5434\n",
      "[['name', 'Pratik', 'age', 21, 'surname', 'Kulkarni'], ['name', 'Pratik', 'age', 21, 'surname', 'Kulkarni'], ['name', 'Pratik', 'age', 21, 'surname', 'Kulkarni'], ['name', 'Pratik', 'age', 21, 'surname', 'Kulkarni'], ['name', 'Pratik', 'age', 21, 'surname', 'Kulkarni'], ['name', 'Pratik', 'age', 21, 'surname', 'Kulkarni']]\n",
      "Enter a no3\n",
      "sum is 6\n",
      "Enter a no of students: 1\n",
      "Enter a name:Pratik\n",
      "Enter a marks:45\n",
      "[['Pratik', 45]]\n"
     ]
    }
   ],
   "source": [
    "#for loop example -->range(start,stop,step)\n",
    "#print a no.s from 1 to 15\n",
    "for i in range(1,16,1):\n",
    "    print(i)\n",
    "    \n",
    "#reverse print\n",
    "for i in range(5,0,-1):\n",
    "    print(i)\n",
    "    \n",
    "#list-traverse\n",
    "l=[33,22,44,54,69]\n",
    "for n in l:\n",
    "    print(n)\n",
    "#getting a list sum\n",
    "sum=0\n",
    "for n in l:\n",
    "    sum=sum+n\n",
    "print(\"sum is\",sum)\n",
    "\n",
    "#tuple reverse\n",
    "t=(33,22,4590,567)\n",
    "for i in t:\n",
    "    print(i)\n",
    "s=0\n",
    "for n in t:\n",
    "    sum=sum+n\n",
    "print(\"sum is\",sum)\n",
    "\n",
    "#use of append\n",
    "d=[\"name\",\"Pratik\",\n",
    "   \"age\",21,\n",
    "    \"surname\",\"Kulkarni\"]\n",
    "d2=[]\n",
    "for i in d:\n",
    "    d2.append(d)\n",
    "print(d2)\n",
    "\n",
    "#getting a sum of range\n",
    "n=int(input(\"Enter a no\"))\n",
    "sum=0\n",
    "for i in range(1,n+1,1):\n",
    "    sum=sum+i\n",
    "print(\"sum is\",sum)\n",
    "\n",
    "#program to get a list of students\n",
    "n=int(input(\"Enter a no of students: \"))\n",
    "stud=[]\n",
    "for i in range(n):\n",
    "    name=input(\"Enter a name:\")\n",
    "    marks=int(input(\"Enter a marks:\"))\n",
    "    stud.append([name,marks])\n",
    "    print(stud)"
   ]
  },
  {
   "cell_type": "markdown",
   "id": "ad66a53b",
   "metadata": {},
   "source": [
    "### While loop - It is used to execute block of statements repetedly untill given condition is satisfied. "
   ]
  },
  {
   "cell_type": "code",
   "execution_count": 85,
   "id": "fba88d35",
   "metadata": {},
   "outputs": [
    {
     "name": "stdout",
     "output_type": "stream",
     "text": [
      "1\n",
      "2\n",
      "3\n",
      "4\n",
      "5\n",
      "Enter a no: 332\n",
      "No of digits is 1\n",
      "No of digits is 2\n",
      "No of digits is 3\n",
      "Hello Network\n",
      "Hello Network\n",
      "Hello Network\n",
      "4\n",
      "3\n",
      "2\n",
      "1\n"
     ]
    }
   ],
   "source": [
    "i=1\n",
    "while i<=5:\n",
    "    print(i)\n",
    "    i=i+1\n",
    "    \n",
    "#no of digits in no\n",
    "n=int(input(\"Enter a no: \"))\n",
    "dcount=0\n",
    "while n>0:\n",
    "    n=n//10\n",
    "    dcount=dcount+1\n",
    "    print('No of digits is',dcount)\n",
    "\n",
    "c=0\n",
    "while (c<3):\n",
    "    c=c+1\n",
    "    print(\"Hello Network\")\n",
    "    \n",
    "a=[1,2,3,4]\n",
    "while a:\n",
    "    print(a.pop())"
   ]
  },
  {
   "cell_type": "markdown",
   "id": "a2ef8482",
   "metadata": {},
   "source": [
    "### FOR - Else and While -else"
   ]
  },
  {
   "cell_type": "code",
   "execution_count": 87,
   "id": "60f9c69d",
   "metadata": {},
   "outputs": [
    {
     "name": "stdout",
     "output_type": "stream",
     "text": [
      "1\n",
      "2\n",
      "3\n",
      "4\n",
      "5\n",
      "6\n",
      "7\n",
      "8\n",
      "9\n",
      "End\n",
      "1\n",
      "2\n",
      "3\n",
      "4\n",
      "5\n",
      "1\n",
      "2\n",
      "3\n",
      "4\n",
      "5\n",
      "end\n",
      "end\n"
     ]
    }
   ],
   "source": [
    "#to get nos. in range of 10\n",
    "#here if for loop is completed then else will be executed\n",
    "for i in range(1,10):\n",
    "    print(i)\n",
    "else:\n",
    "    print(\"End\")\n",
    "    \n",
    "#if there is break in loop then else will not execute\n",
    "for i in range(1,10):\n",
    "    print(i)\n",
    "    if i==5:\n",
    "        break\n",
    "else:\n",
    "    print(\"End\")\n",
    "    \n",
    "#while - else\n",
    "i=1\n",
    "while i <=5:\n",
    "    print(i)\n",
    "    i=i+1\n",
    "else:\n",
    "    print(\"end\")\n",
    "    \n",
    "#while-break-else\n",
    "i=1\n",
    "while i<=0:\n",
    "    print(i)\n",
    "    i=i+1\n",
    "    break\n",
    "else:\n",
    "    print(\"end\")"
   ]
  },
  {
   "cell_type": "markdown",
   "id": "89c62617",
   "metadata": {},
   "source": [
    "### Important statements-break,continue,pass"
   ]
  },
  {
   "cell_type": "code",
   "execution_count": 107,
   "id": "fbe3338f",
   "metadata": {},
   "outputs": [
    {
     "name": "stdout",
     "output_type": "stream",
     "text": [
      "1\n",
      "2\n",
      "3\n",
      "4\n",
      "Value of i 1\n",
      "Yes\n",
      "It worked\n",
      "Value of i 2\n",
      "Yes\n",
      "It worked\n",
      "Value of i 3\n",
      "Yes\n",
      "It worked\n",
      "Value of i 4\n",
      "Value of i 5\n",
      "Yes\n",
      "It worked\n"
     ]
    }
   ],
   "source": [
    "#use of break - terminates program at particular condition\n",
    "for i in range(1,11):\n",
    "    if i==5:\n",
    "        break\n",
    "    print(i)\n",
    "\n",
    "#continue- it will stop at given condition and will start program from begining\n",
    "for i in range(1,6):\n",
    "    print(\"Value of i\",i)\n",
    "    if (i==4):\n",
    "        continue\n",
    "    print(\"Yes\")\n",
    "    print(\"It worked\")\n",
    "    \n",
    "#pass - it does nothing/it only used when we dont want write anything in program\n",
    "if True:\n",
    "    pass\n",
    "else:\n",
    "    print(\"Hi\")"
   ]
  },
  {
   "cell_type": "markdown",
   "id": "21242499",
   "metadata": {},
   "source": [
    "### Function - Idea behind function is to reduce repeated tasks,to put together repeated tasks.Most important feature of Function is a code reusability.It is use to divide larger programs to smaller ones.It is a set of instruction to do a task"
   ]
  },
  {
   "cell_type": "code",
   "execution_count": 108,
   "id": "4a7c410e",
   "metadata": {},
   "outputs": [
    {
     "name": "stdout",
     "output_type": "stream",
     "text": [
      "End of Pgm\n",
      "This is first line\n",
      "This is 2nd line\n",
      "Sum is  10\n",
      "Sum is  120\n",
      "sum is  18\n",
      "sum is 53\n"
     ]
    }
   ],
   "source": [
    "#there are three types of functions-predefined,userdefined and anonymous function\n",
    "#predefined-some functions are already known to python.They are predefined functions.ex.type(),print()etc\n",
    "#user defined-in order to do some task we(user) can create a task .This are known as user defined functions\n",
    "#to create a function- def is used along with parenethesis in that we can pass arguments\n",
    "\n",
    "#program to understand a function\n",
    "def fun1():\n",
    "    print(\"This is first line\")\n",
    "    print(\"This is 2nd line\")\n",
    "    \n",
    "print(\"End of Pgm\")\n",
    "fun1()                       #it is very important to call .without call function will not be executed\n",
    "\n",
    "#getting sum of two nos.\n",
    "def sum(x,y):\n",
    "    c=x+y\n",
    "    print(\"Sum is \",c)\n",
    "sum(3,7)\n",
    "sum(88,32)\n",
    "\n",
    "#same program using return \n",
    "def sum(x,y):\n",
    "    c=x+y\n",
    "    return c\n",
    "s=(sum(9,9))\n",
    "print(\"sum is \",s)\n",
    "s1=(sum(33,20))\n",
    "print(\"sum is\",s1)"
   ]
  },
  {
   "cell_type": "markdown",
   "id": "94b2d3ab",
   "metadata": {},
   "source": [
    "### Different types of arguments in Function-required argument,keyword argument,default argument,variable length argument"
   ]
  },
  {
   "cell_type": "code",
   "execution_count": 111,
   "id": "1dffc30e",
   "metadata": {},
   "outputs": [
    {
     "name": "stdout",
     "output_type": "stream",
     "text": [
      "HELLO Pratik\n",
      "value of a 33\n",
      "value of b 44\n",
      "prod 1452\n",
      "value of a 44\n",
      "value of b 33\n",
      "prod 1452\n",
      "HELLO Pratik\n",
      "None\n",
      "HELLO ML\n",
      "None\n",
      "Sum is 444\n",
      "None\n"
     ]
    }
   ],
   "source": [
    "#required  argument\n",
    "def sayHello(name):\n",
    "    print(\"HELLO\",name)\n",
    "sayHello(\"Pratik\")  #here it is must to give argument while calling ,if not done willl show error\n",
    "\n",
    "#keyword argument:\n",
    "def product(a,b):\n",
    "    print(\"value of a\",a)\n",
    "    print(\"value of b\",b)\n",
    "    print(\"prod\",(a*b))\n",
    "product(33,44)\n",
    "product(b=33,a=44)    #passing a arguemnt in this way is keyword argument\n",
    "\n",
    "#default argument\n",
    "def sayHello(name=\"Pratik\"):\n",
    "    print(\"HELLO\",name)\n",
    "s=sayHello()   #if we forget to pass a argument here then it will consider default argument\n",
    "print(s)\n",
    "s1=sayHello(\"ML\")\n",
    "print(s1)\n",
    "\n",
    "#variable length argument\n",
    "def sum(*vals):                 #* is important to pass\n",
    "    s=0\n",
    "    for i in vals:\n",
    "        s=s+i\n",
    "    print(\"Sum is\",s)\n",
    "e=sum(9,403,32)\n",
    "print(e)"
   ]
  },
  {
   "cell_type": "markdown",
   "id": "5f72e8bd",
   "metadata": {},
   "source": [
    "### Examples of function"
   ]
  },
  {
   "cell_type": "code",
   "execution_count": 3,
   "id": "ecdcb664",
   "metadata": {},
   "outputs": [
    {
     "name": "stdout",
     "output_type": "stream",
     "text": [
      "Enter a no:22\n",
      "Yes\n",
      "2 4 6 8 10 12 14 16 18 20 22 24 26 28 30 32 34 36 38 40 42 44 46 48 50 52 54 56 58 60 62 64 66 68 70 72 74 76 78 80 82 84 86 88 90 92 94 96 98 100 Enter a no:27\n",
      "Yes\n",
      "False\n",
      "2 3 5 7 11 13 17 19 23 29 31 37 41 43 47 53 59 61 67 71 73 79 83 89 97 "
     ]
    }
   ],
   "source": [
    "#even no\n",
    "def isEven(n):\n",
    "    if n%2==0:\n",
    "        return True\n",
    "    else:\n",
    "        return False\n",
    "isEven(21)\n",
    "\n",
    "#input of user\n",
    "n=int(input(\"Enter a no:\"))\n",
    "if isEven(n):\n",
    "    print(\"Yes\")\n",
    "else:\n",
    "    print(\"No\")\n",
    "    \n",
    "#even in 1 to 101\n",
    "for i in range(1,101):\n",
    "    if isEven(i):\n",
    "        print(i,end=\" \")\n",
    "    \n",
    "#odd no\n",
    "def isOdd(n):\n",
    "    if n%2==1:\n",
    "        return True\n",
    "    else:\n",
    "        return False\n",
    "isOdd(22)\n",
    "\n",
    "#input from user\n",
    "n=int(input(\"Enter a no:\"))\n",
    "if isOdd(n):\n",
    "    print(\"Yes\")\n",
    "else:\n",
    "    print(\"No\")\n",
    "    \n",
    "#prime no\n",
    "def isPrime(n):\n",
    "    f=0\n",
    "    for i in range(1,n+1):\n",
    "        if n%i==0:\n",
    "             f=f+1\n",
    "    if f==2:\n",
    "        return True\n",
    "    else:\n",
    "        return False\n",
    "print(isPrime(9))\n",
    "\n",
    "#prime in between 1 to 101\n",
    "for i in range (1,101):\n",
    "    if isPrime(i):\n",
    "        print(i,end=\" \")"
   ]
  },
  {
   "cell_type": "markdown",
   "id": "23d025ba",
   "metadata": {},
   "source": [
    "### Lambda Function - It is anonymous function .It can take many arguments but only one expression"
   ]
  },
  {
   "cell_type": "code",
   "execution_count": 11,
   "id": "8ece0f65",
   "metadata": {},
   "outputs": [
    {
     "name": "stdout",
     "output_type": "stream",
     "text": [
      "2916\n",
      "2916\n",
      "297\n",
      "975466349649\n"
     ]
    }
   ],
   "source": [
    "#syntax-lambda arg1,ar2....:expression\n",
    "#get a square of noraml - normal function\n",
    "def sq(x):\n",
    "    return x*x\n",
    "s=sq(54)\n",
    "print(s)\n",
    "\n",
    "#using lambda\n",
    "sq=lambda x:x*x\n",
    "print(sq(54))         #thus within shorter lines we found square\n",
    "\n",
    "#getting multipilcation of two nos.\n",
    "def fun1(fun2,x):\n",
    "    ans=fun2(x)\n",
    "    return ans\n",
    "r=fun1(lambda x : x*99,3)\n",
    "print(r)\n",
    "\n",
    "#same with reduced lines\n",
    "def fun1(fun2,x):\n",
    "    return fun2(x)\n",
    "r=fun1(lambda x:x*x,987657)\n",
    "print(r)"
   ]
  },
  {
   "cell_type": "markdown",
   "id": "9480b95d",
   "metadata": {},
   "source": [
    "### Map-It is also anonymous function but it takes argument as function and iteables."
   ]
  },
  {
   "cell_type": "code",
   "execution_count": null,
   "id": "ac5c2004",
   "metadata": {},
   "outputs": [],
   "source": [
    "#syntax for function -> map(function,iteables)\n",
    "#iterables-objects which can traverse ex.list,tuple,string\n",
    "#program to add 1 to each no in list\n",
    "def fun1(x):\n",
    "    return x+1\n",
    "mylist=[2,6,9,53,21]\n",
    "ob=map(fun1,mylist)\n",
    "print(list(ob))        #it is must to convert it into list other wise will not give output\n",
    "\n",
    "#with short lines of code \n",
    "print(list(map(lambda x:x+1,mylist)))"
   ]
  },
  {
   "cell_type": "markdown",
   "id": "69983679",
   "metadata": {},
   "source": [
    "### Filter - It returns only boolean values(true or false)"
   ]
  },
  {
   "cell_type": "code",
   "execution_count": null,
   "id": "02ff44cb",
   "metadata": {},
   "outputs": [],
   "source": [
    "#syntax for filter - filter(function,iterables)\n",
    "#to check whether even or not\n",
    "mylist=[22,14,31,33,35,46]\n",
    "def isEven(x):\n",
    "    if x%2==0:\n",
    "        return True\n",
    "    else:\n",
    "        return False\n",
    "ob=filter(isEven,mylist)\n",
    "print(list(ob))\n",
    "\n",
    "#with shorter lines \n",
    "ob=filter(lambda x:True if x%2==0 else False,mylist)\n",
    "print(list(ob))"
   ]
  },
  {
   "cell_type": "markdown",
   "id": "fe8500f7",
   "metadata": {},
   "source": [
    "### Reduce-It is imported from functools library.It takes function and argument"
   ]
  },
  {
   "cell_type": "code",
   "execution_count": null,
   "id": "956e5ff9",
   "metadata": {},
   "outputs": [],
   "source": [
    "import functools\n",
    "#write program to to get sum of list\n",
    "def sum(x,y):\n",
    "    return x+y\n",
    "mylist=[21,34,51,23]\n",
    "ans=functools.reduce(sum,mylist)\n",
    "#55,106,129\n",
    "print(ans)\n",
    "\n",
    "#to get min no in list\n",
    "mylist=[22,12,278,8390]\n",
    "print(mylist)\n",
    "min=functools.reduce(lambda x,y:x if x<y else y,mylist)\n",
    "print(min)\n",
    "\n",
    "#max no\n",
    "max=functools.reduce(lambda x,y:x if x>y else y,mylist)\n",
    "print(max)"
   ]
  },
  {
   "cell_type": "code",
   "execution_count": null,
   "id": "bf20f7d2",
   "metadata": {},
   "outputs": [],
   "source": []
  },
  {
   "cell_type": "code",
   "execution_count": null,
   "id": "2a5bbf0c",
   "metadata": {},
   "outputs": [],
   "source": []
  }
 ],
 "metadata": {
  "kernelspec": {
   "display_name": "Python 3",
   "language": "python",
   "name": "python3"
  },
  "language_info": {
   "codemirror_mode": {
    "name": "ipython",
    "version": 3
   },
   "file_extension": ".py",
   "mimetype": "text/x-python",
   "name": "python",
   "nbconvert_exporter": "python",
   "pygments_lexer": "ipython3",
   "version": "3.7.3"
  }
 },
 "nbformat": 4,
 "nbformat_minor": 5
}
