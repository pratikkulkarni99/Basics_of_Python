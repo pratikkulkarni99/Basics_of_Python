{
 "cells": [
  {
   "cell_type": "markdown",
   "id": "9a59c609",
   "metadata": {},
   "source": [
    "## Set"
   ]
  },
  {
   "cell_type": "code",
   "execution_count": 1,
   "id": "ef7d0b84",
   "metadata": {},
   "outputs": [
    {
     "name": "stdout",
     "output_type": "stream",
     "text": [
      "set()\n",
      "<class 'set'>\n",
      "{}\n",
      "<class 'dict'>\n",
      "{1, 2, 3, 4, 5, (6, 7, 8)}\n",
      "{1, 2, 3, 4, 5, 6}\n",
      "{1, 2, 3, 4, 5, 6, 9}\n",
      "{1, 2, 3, 4, 5, 6, 7, 8, 9}\n",
      "{1, 2, 3, 4, 5, 6, 7, 8, 9, 'b', 'c', 'a'}\n",
      "{2, 3, 4, 5, 6, 7, 8, 9, 'b', 'c', 'a'}\n",
      "{2, 3, 4, 5, 6, 7, 8, 9, 'b', 'c', 'a'}\n"
     ]
    }
   ],
   "source": [
    "# set Op\n",
    "#set is mutable\n",
    "#but every element of set is unique and immutable\n",
    "s=set()\n",
    "print(s)\n",
    "print(type(s))\n",
    "s={}\n",
    "print(s)\n",
    "print(type(s))\n",
    "\n",
    "#s={1,2,3,4,5,5,(6,7,8),[9,10]}  #list element cant be store in set\n",
    "#print(s)\n",
    "\n",
    "s={1,2,3,4,5,5,(6,7,8)}\n",
    "print(s)\n",
    "\n",
    "#add                              set is order collection of data element\n",
    "s={6,1,2,3,4,5}\n",
    "print(s)\n",
    "s.add(9)\n",
    "print(s)\n",
    "\n",
    "#update\n",
    "s.update((6,7),[8,9])\n",
    "print(s)\n",
    "s.update((6,7),[8,9],\"abc\")\n",
    "print(s)\n",
    "\n",
    "#remove                     when no is already deleted and system runs again this statemnet system gives the error\n",
    "s.remove(1)\n",
    "print(s)\n",
    "\n",
    "#discard        discard not gives the error in system\n",
    "s.discard(10)\n",
    "print(s)"
   ]
  },
  {
   "cell_type": "code",
   "execution_count": 2,
   "id": "cf80dfdd",
   "metadata": {},
   "outputs": [
    {
     "name": "stdout",
     "output_type": "stream",
     "text": [
      "{1, 2, 3, 4, 5, 6, 7, 8}\n",
      "{4, 5}\n",
      "{1, 2, 3}\n",
      "{8, 6, 7}\n",
      "{1, 2, 3, 6, 7, 8}\n"
     ]
    }
   ],
   "source": [
    "#union\n",
    "#intersection\n",
    "#difference\n",
    "#A-B    B-A\n",
    "#symetric-diff\n",
    "a={1,2,3,4,5}\n",
    "b={4,5,6,7,8}\n",
    "#union\n",
    "print(a.union(b))\n",
    "\n",
    "#insersection\n",
    "print(a.intersection(b))\n",
    "\n",
    "print(a.difference(b))\n",
    "print(b.difference(a))\n",
    "\n",
    "print(a.symmetric_difference(b))\n"
   ]
  },
  {
   "cell_type": "markdown",
   "id": "e0c088be",
   "metadata": {},
   "source": [
    "## Function"
   ]
  },
  {
   "cell_type": "code",
   "execution_count": 3,
   "id": "3ce941b8",
   "metadata": {},
   "outputs": [
    {
     "data": {
      "text/plain": [
       "6"
      ]
     },
     "execution_count": 3,
     "metadata": {},
     "output_type": "execute_result"
    }
   ],
   "source": [
    "def add():\n",
    "    a+b\n",
    "    return(a+b)\n",
    "a=2\n",
    "b=4\n",
    "add()\n"
   ]
  },
  {
   "cell_type": "code",
   "execution_count": 4,
   "id": "0945973e",
   "metadata": {},
   "outputs": [
    {
     "name": "stdout",
     "output_type": "stream",
     "text": [
      "6\n",
      "15\n"
     ]
    }
   ],
   "source": [
    "# function with argument or parameter\n",
    "def add(a,b):\n",
    "    print(a+b)\n",
    "add(2,4)\n",
    "add(9,6)\n",
    "    \n",
    "    "
   ]
  },
  {
   "cell_type": "code",
   "execution_count": 5,
   "id": "56a611bb",
   "metadata": {},
   "outputs": [
    {
     "name": "stdout",
     "output_type": "stream",
     "text": [
      "5\n"
     ]
    }
   ],
   "source": [
    "#function with default parameter\n",
    "def add(a=0,b=0):\n",
    "    print(a+b)\n",
    "add(5)    "
   ]
  },
  {
   "cell_type": "code",
   "execution_count": 6,
   "id": "de9aa2e0",
   "metadata": {},
   "outputs": [
    {
     "name": "stdout",
     "output_type": "stream",
     "text": [
      "11\n"
     ]
    }
   ],
   "source": [
    "#function with return statement\n",
    "def add(a=0,b=0):\n",
    "    c=a+b\n",
    "    return c\n",
    "res=add(5,6)\n",
    "print(res)"
   ]
  },
  {
   "cell_type": "code",
   "execution_count": 7,
   "id": "996b4ef4",
   "metadata": {},
   "outputs": [
    {
     "name": "stdout",
     "output_type": "stream",
     "text": [
      "(8, 6, 14)\n"
     ]
    }
   ],
   "source": [
    "#function with return statement (multiple)\n",
    "def myfunction():\n",
    "    a=8\n",
    "    b=6\n",
    "    c=a+b\n",
    "    return a,b,c\n",
    "res=myfunction()\n",
    "print(res)"
   ]
  },
  {
   "cell_type": "code",
   "execution_count": 8,
   "id": "591feb6f",
   "metadata": {},
   "outputs": [
    {
     "name": "stdout",
     "output_type": "stream",
     "text": [
      "enter num1:2\n",
      "enter num2:4\n",
      "1.add\n",
      "2.sub\n",
      "3.mul\n",
      "4.div\n",
      "enter the choice:2\n",
      "sub= -2\n",
      "enter the choice:4\n",
      "div= 0.5\n",
      "enter the choice:1\n",
      "add= 6\n",
      "enter the choice:3\n",
      "Mul= 8\n",
      "enter the choice:5\n",
      "wrong choice\n"
     ]
    }
   ],
   "source": [
    "def add(a,b):\n",
    "    return(a+b)\n",
    "\n",
    "def sub(a,b):\n",
    "    return(a-b)\n",
    "\n",
    "def mul(a,b):\n",
    "    return(a*b)\n",
    "\n",
    "def div(a,b):\n",
    "    return(a/b)\n",
    "\n",
    "a=int(input(\"enter num1:\"))\n",
    "b=int(input(\"enter num2:\"))\n",
    "print(\"1.add\")\n",
    "print(\"2.sub\")\n",
    "print(\"3.mul\")\n",
    "print(\"4.div\")\n",
    "ch=0\n",
    "while(ch<=5):\n",
    "    ch=int(input(\"enter the choice:\"))\n",
    "    if(ch==1):\n",
    "        print(\"add=\",add(a,b))\n",
    "    elif(ch==2):\n",
    "        print(\"sub=\",sub(a,b))\n",
    "    elif(ch==3):    \n",
    "        print(\"Mul=\",mul(a,b))\n",
    "    elif(ch==4):\n",
    "        print(\"div=\",div(a,b))\n",
    "    elif(ch==5):\n",
    "        print(\"wrong choice\")\n",
    "        break"
   ]
  },
  {
   "cell_type": "code",
   "execution_count": 9,
   "id": "2b39741f",
   "metadata": {},
   "outputs": [
    {
     "name": "stdout",
     "output_type": "stream",
     "text": [
      "1\n",
      "2\n",
      "3\n",
      "4\n",
      "5\n",
      "6\n",
      "7\n",
      "8\n",
      "9\n",
      "10\n"
     ]
    }
   ],
   "source": [
    "#function with multiple argumnet              * ==>>> star is used for multiple argument\n",
    "def myfun(*arg):\n",
    "    for i in arg:\n",
    "        print(i)\n",
    "myfun(1,2,3,4,5,6,7,8,9,10)        "
   ]
  },
  {
   "cell_type": "code",
   "execution_count": 11,
   "id": "0d75f199",
   "metadata": {},
   "outputs": [
    {
     "name": "stdout",
     "output_type": "stream",
     "text": [
      "<class 'dict'>\n",
      "Pratik\n",
      "67\n",
      "1\n"
     ]
    }
   ],
   "source": [
    "#function with key word argument\n",
    "def myfun(**kwarg):\n",
    "    print(type(kwarg))\n",
    "    print(kwarg[\"name\"])\n",
    "    print(kwarg[\"marks\"])\n",
    "    print(kwarg[\"roll\"])\n",
    "    \n",
    "myfun(name=\"Pratik\",marks=67,roll=1)    "
   ]
  },
  {
   "cell_type": "markdown",
   "id": "c2e15ad5",
   "metadata": {},
   "source": [
    "## Lambda"
   ]
  },
  {
   "cell_type": "code",
   "execution_count": 23,
   "id": "90d0d8a7",
   "metadata": {},
   "outputs": [
    {
     "name": "stdout",
     "output_type": "stream",
     "text": [
      "-1\n"
     ]
    }
   ],
   "source": [
    "#lambda function\n",
    "# syntax   lambda args:expression\n",
    "x=lambda a,b:a-b\n",
    "print(x(5,6))"
   ]
  },
  {
   "cell_type": "code",
   "execution_count": 25,
   "id": "b375950c",
   "metadata": {},
   "outputs": [
    {
     "name": "stdout",
     "output_type": "stream",
     "text": [
      "enter the num:2\n",
      "4\n"
     ]
    }
   ],
   "source": [
    "x=int(input(\"enter the num:\"))\n",
    "r=lambda x:x*x\n",
    "print(r(x))"
   ]
  },
  {
   "cell_type": "code",
   "execution_count": 26,
   "id": "45ba6d4c",
   "metadata": {},
   "outputs": [
    {
     "name": "stdout",
     "output_type": "stream",
     "text": [
      "[2, 4, 6]\n"
     ]
    }
   ],
   "source": [
    "#some application of lambda function\n",
    "# 1)filter method                        filter is gives the value only if condition is True \n",
    "# two parameter==>(fun,list)\n",
    "res=list(filter(lambda a:a%2==0,[1,2,3,4,5,6]))\n",
    "print(res)"
   ]
  },
  {
   "cell_type": "code",
   "execution_count": 27,
   "id": "10714c57",
   "metadata": {},
   "outputs": [
    {
     "name": "stdout",
     "output_type": "stream",
     "text": [
      "[2, 4, 6]\n"
     ]
    }
   ],
   "source": [
    "def check(a):\n",
    "    if a%2==0:\n",
    "        return True\n",
    "    else:\n",
    "        return False\n",
    "    \n",
    "res=list(filter(check,[1,2,3,4,5,6]))\n",
    "print(res)"
   ]
  },
  {
   "cell_type": "code",
   "execution_count": 28,
   "id": "e69bb722",
   "metadata": {},
   "outputs": [
    {
     "name": "stdout",
     "output_type": "stream",
     "text": [
      "[2, 4, 6]\n"
     ]
    }
   ],
   "source": [
    "def check(a):\n",
    "    if a%2==0:\n",
    "        return True\n",
    "    else:\n",
    "        return False\n",
    "    \n",
    "b=[1,2,3,4,5,6]    \n",
    "res=list(filter(check,b))\n",
    "print(res)"
   ]
  },
  {
   "cell_type": "markdown",
   "id": "b42d28f3",
   "metadata": {},
   "source": [
    "## map"
   ]
  },
  {
   "cell_type": "code",
   "execution_count": 29,
   "id": "60ccd615",
   "metadata": {},
   "outputs": [
    {
     "name": "stdout",
     "output_type": "stream",
     "text": [
      "[1, 4, 9, 16, 25, 36, 49, 64, 81, 100]\n"
     ]
    }
   ],
   "source": [
    "# 2) Map\n",
    "#Two parameter ---> fun,list\n",
    "res=list(map(lambda x:x*x,[1,2,3,4,5,6,7,8,9,10]))\n",
    "print(res)"
   ]
  },
  {
   "cell_type": "code",
   "execution_count": 30,
   "id": "cb5a771d",
   "metadata": {},
   "outputs": [
    {
     "name": "stdout",
     "output_type": "stream",
     "text": [
      "[1, 4, 9, 16, 25, 36, 49, 64, 81, 100]\n"
     ]
    }
   ],
   "source": [
    "def sqr(a):\n",
    "    return a*a\n",
    "res=list(map(sqr,[1,2,3,4,5,6,7,8,9,10]))\n",
    "print(res)"
   ]
  },
  {
   "cell_type": "code",
   "execution_count": null,
   "id": "8cc51adc",
   "metadata": {},
   "outputs": [],
   "source": []
  }
 ],
 "metadata": {
  "kernelspec": {
   "display_name": "Python 3",
   "language": "python",
   "name": "python3"
  },
  "language_info": {
   "codemirror_mode": {
    "name": "ipython",
    "version": 3
   },
   "file_extension": ".py",
   "mimetype": "text/x-python",
   "name": "python",
   "nbconvert_exporter": "python",
   "pygments_lexer": "ipython3",
   "version": "3.7.3"
  }
 },
 "nbformat": 4,
 "nbformat_minor": 5
}
